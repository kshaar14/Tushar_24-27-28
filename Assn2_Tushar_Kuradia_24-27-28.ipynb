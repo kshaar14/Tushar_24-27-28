{
 "cells": [
  {
   "cell_type": "markdown",
   "id": "e0758994-94f7-489f-9ee8-7cd69ef5378c",
   "metadata": {},
   "source": [
    "# Assingment 2\n",
    "# NAME: Tushar Kuradia\n",
    "# Reg. No: 24-27-28\n",
    "# Programme Name: M.Tech Data Science"
   ]
  },
  {
   "cell_type": "code",
   "execution_count": 65,
   "id": "2e4dad80-8317-426c-97ac-cad5dbb8c883",
   "metadata": {},
   "outputs": [
    {
     "name": "stdout",
     "output_type": "stream",
     "text": [
      "[ 0  1  2  3  4  5  6  7  8  9 10 11 12 13 14 15 16 17 18 19 20 21 22 23\n",
      " 24 25 26 27 28 29 30]\n"
     ]
    },
    {
     "data": {
      "text/plain": [
       "(31,)"
      ]
     },
     "execution_count": 65,
     "metadata": {},
     "output_type": "execute_result"
    }
   ],
   "source": [
    "# a)\n",
    "\n",
    "import numpy as np\n",
    "var1 = np.arange(0, 31)\n",
    "print(var1)\n",
    "var1.shape"
   ]
  },
  {
   "cell_type": "code",
   "execution_count": 12,
   "id": "35b6b99c-3f58-4cf0-8337-72a983f3c2e8",
   "metadata": {},
   "outputs": [
    {
     "name": "stdout",
     "output_type": "stream",
     "text": [
      "[[ 1  2  3  4  5  6]\n",
      " [ 7  8  9 10 11 12]\n",
      " [13 14 15 16 17 18]\n",
      " [19 20 21 22 23 24]\n",
      " [25 26 27 28 29 30]]\n"
     ]
    },
    {
     "data": {
      "text/plain": [
       "(5, 6)"
      ]
     },
     "execution_count": 12,
     "metadata": {},
     "output_type": "execute_result"
    }
   ],
   "source": [
    "# b.)\n",
    "\"\"\"Since var1 has 31 elements and 31 can't be converted into 2D.\n",
    "So removing the first element to make it 30\"\"\"\n",
    "\n",
    "var1 = np.delete(var1, 0)\n",
    "var2 = var1.reshape(5, 6)\n",
    "print(var2)\n",
    "var2.shape"
   ]
  },
  {
   "cell_type": "code",
   "execution_count": 14,
   "id": "3ddba593-ea76-44b6-a0dc-daf1a3e99cdf",
   "metadata": {},
   "outputs": [
    {
     "name": "stdout",
     "output_type": "stream",
     "text": [
      "[[[ 1  2  3]\n",
      "  [ 4  5  6]\n",
      "  [ 7  8  9]\n",
      "  [10 11 12]\n",
      "  [13 14 15]]\n",
      "\n",
      " [[16 17 18]\n",
      "  [19 20 21]\n",
      "  [22 23 24]\n",
      "  [25 26 27]\n",
      "  [28 29 30]]]\n"
     ]
    },
    {
     "data": {
      "text/plain": [
       "(2, 5, 3)"
      ]
     },
     "execution_count": 14,
     "metadata": {},
     "output_type": "execute_result"
    }
   ],
   "source": [
    "# c)\n",
    "\n",
    "var3 = var1.reshape(2, 5, 3)\n",
    "print(var3)\n",
    "var3.shape"
   ]
  },
  {
   "cell_type": "code",
   "execution_count": 16,
   "id": "a4b85a60-f6eb-43f7-807f-9195e26d7bbc",
   "metadata": {},
   "outputs": [
    {
     "name": "stdout",
     "output_type": "stream",
     "text": [
      "Var 2: \n",
      "[[ 1  2  3  4  5  6]\n",
      " [-1  8  9 10 11 12]\n",
      " [13 14 15 16 17 18]\n",
      " [19 20 21 22 23 24]\n",
      " [25 26 27 28 29 30]] \n",
      " Var 1: \n",
      "[ 1  2  3  4  5  6 -1  8  9 10 11 12 13 14 15 16 17 18 19 20 21 22 23 24\n",
      " 25 26 27 28 29 30] \n",
      " Var 3: \n",
      "[[[ 1  2  3]\n",
      "  [ 4  5  6]\n",
      "  [-1  8  9]\n",
      "  [10 11 12]\n",
      "  [13 14 15]]\n",
      "\n",
      " [[16 17 18]\n",
      "  [19 20 21]\n",
      "  [22 23 24]\n",
      "  [25 26 27]\n",
      "  [28 29 30]]]\n",
      "Since we used reshape on var1 to get var2 and var3 it creates a copy of the numpy array. So we can conclude that if the elements of an array is modified then the other generated arrays' elements will also be modified. \n"
     ]
    }
   ],
   "source": [
    "# d)\n",
    "\n",
    "var2[1][0] = -1\n",
    "print(f\"Var 2: \\n{var2} \\n Var 1: \\n{var1} \\n Var 3: \\n{var3}\")\n",
    "print(\"Since we used reshape on var1 to get var2 and var3 it creates a copy of the numpy array. So we can conclude that if the elements of an array is modified then the other generated arrays' elements will also be modified. \")"
   ]
  },
  {
   "cell_type": "code",
   "execution_count": 18,
   "id": "0037beee-35d9-4838-81f1-2c50a0fadeb8",
   "metadata": {},
   "outputs": [
    {
     "name": "stdout",
     "output_type": "stream",
     "text": [
      "Sum over 2nd Dimension: \n",
      " [[ 27  40  45]\n",
      " [110 115 120]]\n",
      "\n",
      "Sum over 3rd Dimension: \n",
      " [[ 6 15 16 33 42]\n",
      " [51 60 69 78 87]]\n",
      "\n",
      "Sum over 1st and 3rd Dimensions: \n",
      " [ 57  75  85 111 129]\n"
     ]
    }
   ],
   "source": [
    "# e)\n",
    "\n",
    "# i)\n",
    "res1 = np.sum(var3, axis = 1)\n",
    "print(\"Sum over 2nd Dimension: \\n\", res1)\n",
    "\n",
    "# ii)\n",
    "res2 = np.sum(var3, axis = 2)\n",
    "print(\"\\nSum over 3rd Dimension: \\n\", res2)\n",
    "\n",
    "# iii)\n",
    "res3 = np.sum(var3, axis = (0, 2))\n",
    "print(\"\\nSum over 1st and 3rd Dimensions: \\n\", res3)"
   ]
  },
  {
   "cell_type": "code",
   "execution_count": 20,
   "id": "6b32a28e-d3f4-4552-8583-6c632826968e",
   "metadata": {},
   "outputs": [
    {
     "name": "stdout",
     "output_type": "stream",
     "text": [
      "\n",
      "2nd Row of var2: \n",
      " [-1  8  9 10 11 12]\n",
      "\n",
      "Last column of var2: \n",
      " [ 6 12 18 24 30]\n",
      "\n",
      "Top Right 2×2 Submatrix of var2: \n",
      " [[ 5  6]\n",
      " [11 12]]\n"
     ]
    }
   ],
   "source": [
    "# f)\n",
    "\n",
    "# i)\n",
    "print(\"\\n2nd Row of var2: \\n\", var2[1])\n",
    "\n",
    "# ii)\n",
    "print(\"\\nLast column of var2: \\n\", var2[:, -1])\n",
    "\n",
    "# iii)\n",
    "print(\"\\nTop Right 2×2 Submatrix of var2: \\n\", var2[:2, -2:])"
   ]
  },
  {
   "cell_type": "markdown",
   "id": "422bc84c-01be-4932-b1ff-d8b4625d3812",
   "metadata": {},
   "source": [
    "## Q.2)"
   ]
  },
  {
   "cell_type": "code",
   "execution_count": 33,
   "id": "59b644be-0f87-4792-963c-64868013b9f3",
   "metadata": {},
   "outputs": [
    {
     "name": "stdout",
     "output_type": "stream",
     "text": [
      "[ 1  2  3  4  5  6  7  8  9 10]\n"
     ]
    }
   ],
   "source": [
    "# a)\n",
    "\n",
    "vector = np.arange(10) + 1\n",
    "print(vector)"
   ]
  },
  {
   "cell_type": "code",
   "execution_count": 35,
   "id": "13a73069-f5fc-4b88-a2a6-adb524870c57",
   "metadata": {},
   "outputs": [
    {
     "name": "stdout",
     "output_type": "stream",
     "text": [
      "[[ 2  3  4  5  6  7  8  9 10 11]\n",
      " [ 3  4  5  6  7  8  9 10 11 12]\n",
      " [ 4  5  6  7  8  9 10 11 12 13]\n",
      " [ 5  6  7  8  9 10 11 12 13 14]\n",
      " [ 6  7  8  9 10 11 12 13 14 15]\n",
      " [ 7  8  9 10 11 12 13 14 15 16]\n",
      " [ 8  9 10 11 12 13 14 15 16 17]\n",
      " [ 9 10 11 12 13 14 15 16 17 18]\n",
      " [10 11 12 13 14 15 16 17 18 19]\n",
      " [11 12 13 14 15 16 17 18 19 20]]\n"
     ]
    }
   ],
   "source": [
    "# b)\n",
    "\n",
    "A = vector.reshape(10, 1) + vector\n",
    "print(A)"
   ]
  },
  {
   "cell_type": "code",
   "execution_count": 37,
   "id": "32ff18c8-6384-4262-9ed5-b34f4f2e8458",
   "metadata": {},
   "outputs": [],
   "source": [
    "# c)\n",
    "\n",
    "import numpy.random as npr\n",
    "data = np.exp(npr.randn(50, 5))"
   ]
  },
  {
   "cell_type": "code",
   "execution_count": 39,
   "id": "6e2115d4-5f32-46b0-ae92-62f7539cccb3",
   "metadata": {},
   "outputs": [
    {
     "name": "stdout",
     "output_type": "stream",
     "text": [
      "[[ 0.36247236  6.00442974  0.92353169  1.02368067  0.23808164]\n",
      " [ 1.57981393  0.52479028  8.97492483  1.10025512  0.74031979]\n",
      " [ 0.24551024  0.34695468  0.61558673  0.54227357  0.38516451]\n",
      " [ 0.63750235  1.37677547  0.2270466   2.85661156  0.60406213]\n",
      " [ 2.44385025  0.67661226  1.19329937  4.85094335  0.79551147]\n",
      " [ 0.41953608  3.24973606  1.25730132  1.37647006  1.06515747]\n",
      " [ 3.6561251   0.68352163  0.65957433 11.48879393  1.33002752]\n",
      " [ 0.18890197  0.66207252  2.77566571  0.18630002  0.41974525]\n",
      " [ 2.13603205  0.92566278  0.4368062   0.21712545  2.94099102]\n",
      " [ 1.68759723  1.24761084  2.5485176   3.1942714   0.61144593]\n",
      " [ 0.21681925  2.56136593  2.36801489  0.41896274  0.49482303]\n",
      " [10.25157709  0.87732581  1.29248979  0.40134609  0.39718945]\n",
      " [ 0.37618334  0.52137772  1.07006646  0.29159971  0.31417171]\n",
      " [ 0.84649694  2.85291251  0.72336246  0.65349078  0.34551675]\n",
      " [ 0.28015622  0.18405309  0.82232963  0.54961503  0.45328005]\n",
      " [ 0.61184634  1.52282441  6.33844139  0.81742343  0.9885418 ]\n",
      " [ 1.87581383  3.48468028  0.15309483  0.37432714  0.87977506]\n",
      " [ 0.18382412  5.17638295  0.3275468   1.86361325  2.92728925]\n",
      " [ 0.38039117  2.48452027  0.21406519  1.89042725  1.37991923]\n",
      " [ 0.28651517  3.68726218  1.75981733  0.76798865  2.60566217]\n",
      " [ 6.80710866  0.74391602  1.70649606  1.20815562  0.3025474 ]\n",
      " [ 4.21055342  1.33187914  0.65992953  1.96272407  1.07039729]\n",
      " [ 0.59404183  1.2244025   2.01656406  0.16248166  1.96111281]\n",
      " [ 0.36799514  0.66762255  0.85317246  1.5719148   0.56938331]\n",
      " [ 1.25484996  0.44533388  3.23520919  2.46925634  0.23441379]\n",
      " [ 7.16695893  0.37991425  2.21370328  0.26677156  0.86962545]\n",
      " [ 0.41283585  1.80851806  0.18632997  4.23470855  0.95099737]\n",
      " [ 1.40270847  1.22164979  2.22215294  0.0956803   0.17809247]\n",
      " [ 0.56434814  2.00274479  1.08445347  1.19634124  1.36376538]\n",
      " [ 0.57259379  0.24180882  0.40596379  1.39097183  2.59366325]\n",
      " [ 1.76328782  0.42516174  0.4097723   0.52279892  0.703776  ]\n",
      " [ 0.85016788  0.21589355  1.82833235  1.7944982   7.79196526]\n",
      " [ 1.83408147  0.86935432  0.91039943  0.71522784  1.6557317 ]\n",
      " [ 4.56609376  0.66873818  1.50210639  3.14910125  3.73637297]\n",
      " [ 0.49725365  0.62756076  0.46044968  0.55498121  2.28868123]\n",
      " [ 2.06605546  0.30236211  0.32821216  0.51601559  0.08043005]\n",
      " [ 1.18801418  2.37393713  0.95886144  0.60107827  0.46555272]\n",
      " [ 1.35199403  2.82351465  0.29838369 36.37693324  7.0831705 ]\n",
      " [ 0.23941968  0.27669108  1.33921369  0.54603151  1.02729669]\n",
      " [ 0.25150464  0.73750816  0.96705742  1.50659655  0.94113646]\n",
      " [ 0.98150652  0.99032413  0.17577262  0.6846916   2.91559374]\n",
      " [ 1.97167556  1.03700917  0.32269823  0.46637217  2.92620484]\n",
      " [ 7.82463384  1.08130822  1.41603883  6.63551401  1.83848957]\n",
      " [ 4.03123379  0.54350769  2.03547958  4.47316467  0.68569263]\n",
      " [ 7.70258837  1.51036656  0.39376296  0.93146433  1.79927234]\n",
      " [ 2.05542308  0.32867543  0.31114359  0.53908517  0.21355154]\n",
      " [ 0.49152134  0.46787984  1.62613016  0.16143695  0.79812121]\n",
      " [ 0.17078934  0.30643527  3.41876468  6.30444448  1.04077869]\n",
      " [ 2.03631374  0.17094917  1.38694707  0.79943375  0.48461509]\n",
      " [ 1.26445981  0.7439384   0.59077899  1.87068185  0.40209768]]\n"
     ]
    }
   ],
   "source": [
    "# d)\n",
    "\n",
    "print(data)"
   ]
  },
  {
   "cell_type": "code",
   "execution_count": 41,
   "id": "c8f600fb-6103-4a08-a765-39b07bedff6d",
   "metadata": {},
   "outputs": [
    {
     "name": "stdout",
     "output_type": "stream",
     "text": [
      "Mean: [1.90317954 1.31239554 1.39891526 2.37148153 1.37778409]\n",
      "Standard Deviation: [2.31205327 1.26301645 1.53949197 5.27750485 1.52525458]\n"
     ]
    }
   ],
   "source": [
    "# e)\n",
    "\n",
    "mean = np.mean(data, axis = 0)\n",
    "std_dev = np.std(data, axis = 0)\n",
    "print(f\"Mean: {mean}\\nStandard Deviation: {std_dev}\")"
   ]
  },
  {
   "cell_type": "code",
   "execution_count": 45,
   "id": "bdf86fd1-83f7-4c96-88d4-50b64454b268",
   "metadata": {},
   "outputs": [
    {
     "name": "stdout",
     "output_type": "stream",
     "text": [
      "Mean: [1.90317954 1.31239554 1.39891526 2.37148153 1.37778409]\n",
      "Standard Deviation: [2.31205327 1.26301645 1.53949197 5.27750485 1.52525458]\n"
     ]
    }
   ],
   "source": [
    "# f)\n",
    "\n",
    "normalised = (data - mean)/std_dev\n",
    "mean = np.mean(normalised, axis = 0)\n",
    "std_dev = np.std(normalised, axis = 0)\n",
    "print(f\"Mean: {mean}\\nStandard Deviation: {std_dev}\")"
   ]
  },
  {
   "cell_type": "markdown",
   "id": "224cb5b4-52f9-4fbc-ac56-b7034e7c30cb",
   "metadata": {},
   "source": [
    "# Q.2)"
   ]
  },
  {
   "cell_type": "code",
   "execution_count": 55,
   "id": "cb2247be-def0-4212-a37d-dc791d1b3e99",
   "metadata": {},
   "outputs": [
    {
     "name": "stdout",
     "output_type": "stream",
     "text": [
      "[[          1           1           1           1           1           1\n",
      "            1           1           1           1           1           1]\n",
      " [          1           2           4           8          16          32\n",
      "           64         128         256         512        1024        2048]\n",
      " [          1           3           9          27          81         243\n",
      "          729        2187        6561       19683       59049      177147]\n",
      " [          1           4          16          64         256        1024\n",
      "         4096       16384       65536      262144     1048576     4194304]\n",
      " [          1           5          25         125         625        3125\n",
      "        15625       78125      390625     1953125     9765625    48828125]\n",
      " [          1           6          36         216        1296        7776\n",
      "        46656      279936     1679616    10077696    60466176   362797056]\n",
      " [          1           7          49         343        2401       16807\n",
      "       117649      823543     5764801    40353607   282475249  1977326743]\n",
      " [          1           8          64         512        4096       32768\n",
      "       262144     2097152    16777216   134217728  1073741824           0]\n",
      " [          1           9          81         729        6561       59049\n",
      "       531441     4782969    43046721   387420489  -808182895  1316288537]\n",
      " [          1          10         100        1000       10000      100000\n",
      "      1000000    10000000   100000000  1000000000  1410065408  1215752192]\n",
      " [          1          11         121        1331       14641      161051\n",
      "      1771561    19487171   214358881 -1937019605   167620825  1843829075]\n",
      " [          1          12         144        1728       20736      248832\n",
      "      2985984    35831808   429981696   864813056  1787822080   -20971520]]\n"
     ]
    }
   ],
   "source": [
    "# a)\n",
    "\n",
    "def vandermonde(N):\n",
    "    vec = np.arange(N) + 1\n",
    "    return vec[:, np.newaxis] ** (vec - 1)\n",
    "    \n",
    "result = vandermonde(12)\n",
    "print(result)"
   ]
  },
  {
   "cell_type": "code",
   "execution_count": 57,
   "id": "eba5dc74-2a8a-4629-a86e-38f986061a7f",
   "metadata": {},
   "outputs": [
    {
     "name": "stdout",
     "output_type": "stream",
     "text": [
      "[1.20000000e+01 4.09500000e+03 2.65720000e+05 5.59240500e+06\n",
      " 6.10351560e+07 4.35356467e+08 2.30688120e+09 1.22713351e+09\n",
      " 9.43953692e+08 3.73692871e+09 3.10225064e+08 3.10073456e+09]\n"
     ]
    }
   ],
   "source": [
    "# b)\n",
    "\n",
    "x = np.ones(12)\n",
    "b = np.dot(result, x)\n",
    "print(b)"
   ]
  },
  {
   "cell_type": "code",
   "execution_count": 59,
   "id": "910981f7-906e-4f6e-90c0-a6c2c4261f99",
   "metadata": {},
   "outputs": [
    {
     "name": "stdout",
     "output_type": "stream",
     "text": [
      "[1.00000572 0.99735641 1.00311279 0.999506   1.00002861 0.99999857\n",
      " 1.0000001  1.         1.         1.         1.         1.        ]\n"
     ]
    }
   ],
   "source": [
    "# c)\n",
    "\n",
    "from numpy.linalg import inv\n",
    "result2 = inv(result).dot(b)\n",
    "print(result2)"
   ]
  },
  {
   "cell_type": "code",
   "execution_count": 61,
   "id": "7f153806-c8f0-4ad6-80b5-8f3f5ae78fec",
   "metadata": {},
   "outputs": [
    {
     "name": "stdout",
     "output_type": "stream",
     "text": [
      "[1.00000067 0.99999715 1.00000411 0.99999733 1.00000089 0.99999984\n",
      " 1.00000002 1.         1.         1.         1.         1.        ]\n"
     ]
    }
   ],
   "source": [
    "# d)\n",
    "\n",
    "result3 = np.linalg.solve(result, b)\n",
    "print(result3)"
   ]
  }
 ],
 "metadata": {
  "kernelspec": {
   "display_name": "Python 3 (ipykernel)",
   "language": "python",
   "name": "python3"
  },
  "language_info": {
   "codemirror_mode": {
    "name": "ipython",
    "version": 3
   },
   "file_extension": ".py",
   "mimetype": "text/x-python",
   "name": "python",
   "nbconvert_exporter": "python",
   "pygments_lexer": "ipython3",
   "version": "3.12.4"
  }
 },
 "nbformat": 4,
 "nbformat_minor": 5
}
